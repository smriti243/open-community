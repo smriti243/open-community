{
  "cells": [
    {
      "cell_type": "markdown",
      "metadata": {
        "id": "hqlAwxycceLg"
      },
      "source": [
        "# Welcome to the **Python Assessment** of **Vertical Collaboration, Open Community**\n",
        "\n",
        "## About the dataset\n",
        "This dataset contains house sale prices for King County, which includes Seattle. It includes homes sold between May 2014 and May 2015.\n",
        "\n",
        "##### To pass the assessment, you must answer all 11 questions correctly ***Bonus section is optional*.\n",
        "\n",
        "#### Wish you all the best!!\n",
        "\n",
        "\n"
      ]
    },
    {
      "cell_type": "code",
      "execution_count": null,
      "metadata": {
        "id": "wU_bXJPAcsQc"
      },
      "outputs": [],
      "source": [
        "import numpy as np\n",
        "import pandas as pd\n",
        "import matplotlib.pyplot as plt"
      ]
    },
    {
      "cell_type": "markdown",
      "metadata": {
        "id": "4XxnlWfzd7xk"
      },
      "source": [
        "Q1) Your understanding about (max 50 words)\n",
        "\n",
        "\n",
        "1.   NumPY: It is a library for python programming language which supports multi dimensional array and matrices. it aslo contains high level mathematic funtions.\n",
        "2.   Pandas: It is a software library that is used used for data analysis and is fast and flexible. it's also an open source tool.\n",
        "3.   MatPlotLib: It is a plotting library where you can create visualisations.\n",
        "\n"
      ]
    },
    {
      "cell_type": "markdown",
      "metadata": {
        "id": "XmRRFzQccy3j"
      },
      "source": [
        "Q2) Upload the given dataset into the folder named sample_data"
      ]
    },
    {
      "cell_type": "code",
      "execution_count": null,
      "metadata": {
        "id": "npg0aacAcuDR"
      },
      "outputs": [],
      "source": [
        "sales = pd.read_csv('sample_data/kc_house_data.csv')"
      ]
    },
    {
      "cell_type": "markdown",
      "metadata": {
        "id": "zvQY-iP4c4HD"
      },
      "source": [
        "Q2) Find out the total number of rows and columns present in our dataset"
      ]
    },
    {
      "cell_type": "code",
      "execution_count": null,
      "metadata": {
        "id": "E22av13Mc3eE"
      },
      "outputs": [],
      "source": [
        "rows = len(sales.axes[0])\n",
        "colmn = len(sales.axes[1])\n",
        "print(\"The number of rows are :\",rows)\n",
        "print(\"The number of columns are :\",colmn)"
      ]
    },
    {
      "cell_type": "markdown",
      "metadata": {
        "id": "R6EDQ3U7dMii"
      },
      "source": [
        "Q3) Find out the mean of Price"
      ]
    },
    {
      "cell_type": "code",
      "execution_count": null,
      "metadata": {
        "id": "2yVwB0Ztc9zz"
      },
      "outputs": [],
      "source": [
        "df[\"price\"].mean()"
      ]
    },
    {
      "cell_type": "markdown",
      "metadata": {
        "id": "2QO6-TXvddnN"
      },
      "source": [
        "Q4) Find out which zipcode has maximum no of sales"
      ]
    },
    {
      "cell_type": "code",
      "execution_count": null,
      "metadata": {
        "id": "vlSAsQfQfgg2"
      },
      "outputs": [],
      "source": [
        "x = df[\"zipcode\", MAX(price)]\n",
        "print(x)\n"
      ]
    },
    {
      "cell_type": "markdown",
      "metadata": {
        "id": "eeLeVaWBdj7e"
      },
      "source": [
        "Q5) Make an array displaying type of house grade present"
      ]
    },
    {
      "cell_type": "code",
      "execution_count": null,
      "metadata": {
        "id": "TOVrRt4sfhrK"
      },
      "outputs": [],
      "source": [
        "print(sales[\"grade\"].unique())\n"
      ]
    },
    {
      "cell_type": "markdown",
      "metadata": {
        "id": "vyYhtqQDdxqj"
      },
      "source": [
        "Q6) Find out the total no sales in conditions 3 and 4"
      ]
    },
    {
      "cell_type": "code",
      "execution_count": null,
      "metadata": {
        "id": "SkBMOVvafiei"
      },
      "outputs": [],
      "source": [
        "df.groupby([price , x]).size()"
      ]
    },
    {
      "cell_type": "markdown",
      "metadata": {
        "id": "AHs7ZLKrdTsD"
      },
      "source": [
        "Q7) Find out the top-five ids with the highest prices"
      ]
    },
    {
      "cell_type": "code",
      "execution_count": null,
      "metadata": {
        "id": "BS653UBKfjfK"
      },
      "outputs": [],
      "source": [
        "for i in range (0,5):\n",
        "   a =  df.MAX(price)\n",
        "   print(a)"
      ]
    },
    {
      "cell_type": "markdown",
      "metadata": {
        "id": "XP54QULPdZTh"
      },
      "source": [
        "Q8) Draw a pie chart displaying the types of house conditions present"
      ]
    },
    {
      "cell_type": "code",
      "execution_count": null,
      "metadata": {
        "id": "5XP9quaFfkaI"
      },
      "outputs": [],
      "source": [
        "a = (sales[\"condition\"].unique())\n",
        "plt.pie(a, labels = condition)\n",
        "plt.show()"
      ]
    },
    {
      "cell_type": "markdown",
      "metadata": {
        "id": "8gkXMakRdgnZ"
      },
      "source": [
        "Q9) Draw a bar graph displaying the no of sales"
      ]
    },
    {
      "cell_type": "code",
      "execution_count": null,
      "metadata": {
        "id": "LFwCnSCUflFB"
      },
      "outputs": [],
      "source": [
        "x_axis = list(sales[\"zipcode\"].unique())\n",
        "y_axis = list(price)\n",
        "fig = plt.figure(figsize(5,10))\n",
        "plt.bar(x_axis, y_axis,color = \"blue\")\n",
        "plt.xlabel(\"Date\")\n",
        "plt.ylabel(\"No of sales\")\n",
        "plt.show()"
      ]
    },
    {
      "cell_type": "markdown",
      "metadata": {
        "id": "_LGgh106dsBQ"
      },
      "source": [
        "Q10) Draw a graph that display the no of sales according to the date"
      ]
    },
    {
      "cell_type": "code",
      "execution_count": null,
      "metadata": {
        "id": "pcKacoICflze"
      },
      "outputs": [],
      "source": [
        "x_axis = list(date)\n",
        "y_axis = list(price)\n",
        "plt.plot(x_axis,y_axis)\n",
        "plt.xlabel(\"Date\")\n",
        "plt.ylabel(\"No of sales\")\n",
        "plt.show()\""
      ]
    },
    {
      "cell_type": "markdown",
      "metadata": {
        "id": "jFgB7RxAd0rn"
      },
      "source": [
        "Q11) Draw a bar graph that displays the no of sales accoring to the house grade"
      ]
    },
    {
      "cell_type": "code",
      "execution_count": null,
      "metadata": {
        "id": "ZXPUs_hXfmdR"
      },
      "outputs": [],
      "source": [
        "x_axis = list(grade)\n",
        "y_axis = list(price)\n",
        "fig = plt.figure(figsize(5,10))\n",
        "plt.bar(x_axis, y_axis,color = \"green\")\n",
        "plt.xlabel(\"Grade\")\n",
        "plt.ylabel(\"No of sales\")\n",
        "plt.show()\n"
      ]
    },
    {
      "cell_type": "markdown",
      "metadata": {
        "id": "HXIvKNK7doXJ"
      },
      "source": [
        "### BONUS"
      ]
    },
    {
      "cell_type": "markdown",
      "metadata": {
        "id": "PRP0ZaKFe8xt"
      },
      "source": [
        "Q1) Is there any relationship present between Year Built and Price? If yes, Please explain."
      ]
    },
    {
      "cell_type": "code",
      "execution_count": null,
      "metadata": {
        "id": "FXoVpaJKdPSv"
      },
      "outputs": [],
      "source": [
        "# your code here"
      ]
    },
    {
      "cell_type": "markdown",
      "metadata": {
        "id": "QQvNxYe5d3-3"
      },
      "source": [
        "Q2 ) Add 1.8% TAX on every sale Price within Zipcode 98103"
      ]
    },
    {
      "cell_type": "code",
      "execution_count": null,
      "metadata": {
        "id": "lWDids4yfEAz"
      },
      "outputs": [],
      "source": [
        "# your code here"
      ]
    }
  ],
  "metadata": {
    "colab": {
      "collapsed_sections": [],
      "name": "PythonAssessment_2022-23",
      "provenance": []
    },
    "kernelspec": {
      "display_name": "Python 3",
      "name": "python3"
    },
    "language_info": {
      "name": "python"
    }
  },
  "nbformat": 4,
  "nbformat_minor": 0
}
